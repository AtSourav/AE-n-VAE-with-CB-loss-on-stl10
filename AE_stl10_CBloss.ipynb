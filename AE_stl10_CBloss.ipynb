{
  "nbformat": 4,
  "nbformat_minor": 0,
  "metadata": {
    "colab": {
      "provenance": [],
      "authorship_tag": "ABX9TyPxMb/wRKb+/Ga1diUqmPK5",
      "include_colab_link": true
    },
    "kernelspec": {
      "name": "python3",
      "display_name": "Python 3"
    },
    "language_info": {
      "name": "python"
    }
  },
  "cells": [
    {
      "cell_type": "markdown",
      "metadata": {
        "id": "view-in-github",
        "colab_type": "text"
      },
      "source": [
        "<a href=\"https://colab.research.google.com/github/AtSourav/AE-n-VAE-with-CB-loss-on-stl10/blob/main/AE_stl10_CBloss.ipynb\" target=\"_parent\"><img src=\"https://colab.research.google.com/assets/colab-badge.svg\" alt=\"Open In Colab\"/></a>"
      ]
    },
    {
      "cell_type": "code",
      "execution_count": 42,
      "metadata": {
        "id": "8JhohIS87_QI"
      },
      "outputs": [],
      "source": [
        "import numpy as np\n",
        "import tensorflow as tf\n",
        "from tensorflow import keras\n",
        "from tensorflow import math\n",
        "import tensorflow_datasets as tfds\n",
        "from keras import losses\n",
        "from keras import layers\n",
        "from keras import utils\n",
        "from keras import backend as K\n",
        "\n",
        "import os\n",
        "import random\n",
        "import matplotlib.pyplot as plt"
      ]
    },
    {
      "cell_type": "code",
      "source": [
        "img_ht = 48\n",
        "img_wd = 48\n",
        "\n",
        "input_size = (img_ht,img_wd,3)\n",
        "latent_dim = 256\n",
        "batch_size = 512"
      ],
      "metadata": {
        "id": "Pc-MbMT38c2M"
      },
      "execution_count": 49,
      "outputs": []
    },
    {
      "cell_type": "code",
      "source": [
        "ds = tfds.load('stl10', split='unlabelled')"
      ],
      "metadata": {
        "id": "ZghVxa4C-LjY"
      },
      "execution_count": 12,
      "outputs": []
    },
    {
      "cell_type": "code",
      "source": [
        "ds_to_np = list(ds.as_numpy_iterator())"
      ],
      "metadata": {
        "id": "xcWNE5oU_3P2"
      },
      "execution_count": 14,
      "outputs": []
    },
    {
      "cell_type": "code",
      "source": [
        "ds_to_np[1]"
      ],
      "metadata": {
        "colab": {
          "base_uri": "https://localhost:8080/"
        },
        "id": "Ke_hRbhyEzP0",
        "outputId": "c4fc58d8-dcf2-45ac-9ebc-640d69a7b3de"
      },
      "execution_count": 27,
      "outputs": [
        {
          "output_type": "execute_result",
          "data": {
            "text/plain": [
              "{'image': array([[[0, 0, 0],\n",
              "         [0, 0, 0],\n",
              "         [0, 0, 0],\n",
              "         ...,\n",
              "         [0, 0, 0],\n",
              "         [0, 0, 0],\n",
              "         [0, 0, 0]],\n",
              " \n",
              "        [[0, 0, 0],\n",
              "         [0, 0, 0],\n",
              "         [0, 0, 0],\n",
              "         ...,\n",
              "         [0, 0, 0],\n",
              "         [0, 0, 0],\n",
              "         [0, 0, 0]],\n",
              " \n",
              "        [[0, 0, 0],\n",
              "         [0, 0, 0],\n",
              "         [0, 0, 0],\n",
              "         ...,\n",
              "         [0, 0, 0],\n",
              "         [0, 0, 0],\n",
              "         [0, 0, 0]],\n",
              " \n",
              "        ...,\n",
              " \n",
              "        [[0, 0, 0],\n",
              "         [0, 0, 0],\n",
              "         [0, 0, 0],\n",
              "         ...,\n",
              "         [0, 0, 0],\n",
              "         [0, 0, 0],\n",
              "         [0, 0, 0]],\n",
              " \n",
              "        [[0, 0, 0],\n",
              "         [0, 0, 0],\n",
              "         [0, 0, 0],\n",
              "         ...,\n",
              "         [0, 0, 0],\n",
              "         [0, 0, 0],\n",
              "         [0, 0, 0]],\n",
              " \n",
              "        [[0, 0, 0],\n",
              "         [0, 0, 0],\n",
              "         [0, 0, 0],\n",
              "         ...,\n",
              "         [0, 0, 0],\n",
              "         [0, 0, 0],\n",
              "         [0, 0, 0]]], dtype=uint8),\n",
              " 'label': -1}"
            ]
          },
          "metadata": {},
          "execution_count": 27
        }
      ]
    },
    {
      "cell_type": "code",
      "source": [
        "print(set(tuple(x.keys()) for x in ds_to_np))                # we converted the list of keys into a tuple since we wanted to use set() for duplicate removal\n",
        "                                                             # set() only works on hashable objects like strings, numbers, and tuples,\n",
        "                                                             # and not on mutables like dicts and strings\n",
        "\n",
        "print(set(x['label'] for x in ds_to_np))\n",
        "print(set(type(x['image']) for x in ds_to_np))\n",
        "print(set(x['image'].shape for x in ds_to_np))\n",
        "print(len(ds_to_np))"
      ],
      "metadata": {
        "colab": {
          "base_uri": "https://localhost:8080/"
        },
        "id": "6eSyEWMDFtDc",
        "outputId": "77d4749a-b0c7-40ac-8f8e-852e87b517c0"
      },
      "execution_count": 41,
      "outputs": [
        {
          "output_type": "stream",
          "name": "stdout",
          "text": [
            "{('image', 'label')}\n",
            "{-1}\n",
            "{<class 'numpy.ndarray'>}\n",
            "{(96, 96, 3)}\n",
            "100000\n"
          ]
        }
      ]
    },
    {
      "cell_type": "markdown",
      "source": [
        "ds_to_np is a list of dictionaries where the key:value pairs are the 'image':img_ndarray, 'label'=-1. We want to collect all these arrays and form a tensor/array. There are 100k images. We'll use 50k of them in the training set, 25k for validation, and 25k for the test set."
      ],
      "metadata": {
        "id": "Vs1dSYGeGqe1"
      }
    },
    {
      "cell_type": "code",
      "source": [
        "random.seed(100)\n",
        "random.shuffle(ds_to_np)                                    # random permutation in place\n",
        "img_train = np.array([x['image'] for x in ds_to_np[:50000]])\n",
        "img_valid = np.array([x['image'] for x in ds_to_np[50000:75000]])\n",
        "img_test = np.array([x['image'] for x in ds_to_np[75000:]])\n",
        "\n",
        "img_train = img_train/255\n",
        "img_valid = img_valid/255\n",
        "img_test = img_test/255"
      ],
      "metadata": {
        "id": "RDUYYwKbMsqz"
      },
      "execution_count": null,
      "outputs": []
    },
    {
      "cell_type": "code",
      "source": [
        "print(img_train.shape)"
      ],
      "metadata": {
        "colab": {
          "base_uri": "https://localhost:8080/"
        },
        "id": "_inAvf3KShmj",
        "outputId": "ae47c8bb-1b10-4ff9-810b-57f8cb2ac0f1"
      },
      "execution_count": 51,
      "outputs": [
        {
          "output_type": "stream",
          "name": "stdout",
          "text": [
            "(50000, 96, 96, 3)\n"
          ]
        }
      ]
    },
    {
      "cell_type": "code",
      "source": [],
      "metadata": {
        "id": "oSKEtqceW8y5"
      },
      "execution_count": null,
      "outputs": []
    }
  ]
}