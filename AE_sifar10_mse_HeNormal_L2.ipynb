{
  "nbformat": 4,
  "nbformat_minor": 0,
  "metadata": {
    "colab": {
      "provenance": [],
      "gpuType": "T4",
      "authorship_tag": "ABX9TyMNndG5iqsRZoOxADpGDjt+",
      "include_colab_link": true
    },
    "kernelspec": {
      "name": "python3",
      "display_name": "Python 3"
    },
    "language_info": {
      "name": "python"
    },
    "accelerator": "GPU"
  },
  "cells": [
    {
      "cell_type": "markdown",
      "metadata": {
        "id": "view-in-github",
        "colab_type": "text"
      },
      "source": [
        "<a href=\"https://colab.research.google.com/github/AtSourav/AE-n-VAE-with-CB-loss-on-stl10/blob/main/AE_sifar10_mse_HeNormal_L2.ipynb\" target=\"_parent\"><img src=\"https://colab.research.google.com/assets/colab-badge.svg\" alt=\"Open In Colab\"/></a>"
      ]
    },
    {
      "cell_type": "code",
      "execution_count": 1,
      "metadata": {
        "id": "s9hyPGDDITNB"
      },
      "outputs": [],
      "source": [
        "import numpy as np\n",
        "import tensorflow as tf\n",
        "from tensorflow import keras\n",
        "from tensorflow import math\n",
        "import tensorflow_datasets as tfds\n",
        "from keras import losses\n",
        "from keras import layers\n",
        "from keras import utils\n",
        "from keras import backend as K\n",
        "from keras import initializers\n",
        "\n",
        "import os\n",
        "import random\n",
        "import matplotlib.pyplot as plt"
      ]
    },
    {
      "cell_type": "code",
      "source": [
        "img_ht = 32\n",
        "img_wd = 32\n",
        "\n",
        "input_size = (img_ht,img_wd,3)\n",
        "latent_dim = 200\n",
        "batch_size = 128\n",
        "\n",
        "initializer = initializers.HeNormal(seed=100)"
      ],
      "metadata": {
        "id": "I6BbJ1-xIdBe"
      },
      "execution_count": 2,
      "outputs": []
    },
    {
      "cell_type": "code",
      "source": [
        "ds = tfds.load('cifar10', split='train')\n",
        "ds2= tfds.load('cifar10', split='test')"
      ],
      "metadata": {
        "id": "6hqxUOF8I8EB"
      },
      "execution_count": 3,
      "outputs": []
    },
    {
      "cell_type": "code",
      "source": [
        "ds_to_np = list(ds.as_numpy_iterator())\n",
        "ds2_to_np = list(ds2.as_numpy_iterator())"
      ],
      "metadata": {
        "id": "-DpbuUPUJBjR"
      },
      "execution_count": 4,
      "outputs": []
    },
    {
      "cell_type": "code",
      "source": [
        "img_train = np.array([x['image'] for x in ds_to_np])\n",
        "img_valid = np.array([x['image'] for x in ds2_to_np])\n",
        "\n",
        "img_train = img_train/255\n",
        "img_valid = img_valid/255"
      ],
      "metadata": {
        "id": "2A1klyJpJCmz"
      },
      "execution_count": 5,
      "outputs": []
    },
    {
      "cell_type": "code",
      "source": [
        "encoder_input = keras.Input(shape=input_size)\n",
        "\n",
        "x = layers.Conv2D(64, 3, padding=\"valid\", kernel_initializer=initializer)(encoder_input)\n",
        "x = layers.ReLU()(x)\n",
        "\n",
        "x = layers.Conv2D(64, 2, padding=\"valid\", kernel_initializer=initializer)(x)\n",
        "x = layers.ReLU()(x)\n",
        "\n",
        "x = layers.MaxPooling2D(pool_size=(2, 2), strides=None, padding=\"valid\")(x)\n",
        "\n",
        "x = layers.Conv2D(128, 3, padding=\"valid\", kernel_initializer=initializer)(x)\n",
        "x = layers.ReLU()(x)\n",
        "\n",
        "#x = layers.Conv2D(128, 2, padding=\"valid\", kernel_initializer=initializer)(x)\n",
        "#x = layers.ReLU()(x)\n",
        "\n",
        "x = layers.Conv2D(128, 2, padding=\"valid\", kernel_initializer=initializer)(x)\n",
        "x = layers.ReLU()(x)\n",
        "\n",
        "x = layers.Conv2D(128, 2, padding=\"valid\", kernel_initializer=initializer)(x)\n",
        "x = layers.ReLU()(x)\n",
        "\n",
        "x = layers.Conv2D(256, 2, padding=\"valid\", kernel_initializer=initializer)(x)\n",
        "x = layers.ReLU()(x)\n",
        "\n",
        "x = layers.Conv2D(256, 2, padding=\"valid\", kernel_initializer=initializer)(x)\n",
        "x = layers.ReLU()(x)\n",
        "\n",
        "x = layers.Conv2D(256, 2, padding=\"valid\", kernel_initializer=initializer)(x)\n",
        "x = layers.ReLU()(x)\n",
        "\n",
        "x = layers.Conv2D(256, 2, padding=\"valid\", kernel_initializer=initializer)(x)\n",
        "x = layers.ReLU()(x)\n",
        "\n",
        "x = layers.Conv2D(512, 2, padding=\"valid\", kernel_initializer=initializer)(x)\n",
        "x = layers.ReLU()(x)\n",
        "\n",
        "x = layers.Conv2D(512, 2, padding=\"valid\", kernel_initializer=initializer)(x)\n",
        "x = layers.ReLU()(x)\n",
        "\n",
        "x = layers.Conv2D(512, 2, padding=\"valid\", kernel_initializer=initializer)(x)\n",
        "#x = layers.BatchNormalization(axis=-1)(x)\n",
        "x = layers.ReLU()(x)\n",
        "\n",
        "x = layers.Conv2D(512, 2, padding=\"valid\", kernel_initializer=initializer)(x)\n",
        "#x = layers.BatchNormalization(axis=-1)(x)\n",
        "x = layers.ReLU()(x)\n",
        "\n",
        "x = layers.Conv2D(512, 1, padding=\"valid\", kernel_initializer=initializer)(x)\n",
        "#x = layers.BatchNormalization(axis=-1)(x)\n",
        "x = layers.ReLU()(x)\n",
        "\n",
        "x = layers.Conv2D(1024, 1, padding=\"valid\", kernel_initializer=initializer)(x)\n",
        "x = layers.ReLU()(x)\n",
        "\n",
        "x = layers.Flatten()(x)\n",
        "\n",
        "x = layers.Dense(4*latent_dim)(x)\n",
        "x = layers.ReLU()(x)\n",
        "\n",
        "x = layers.Dense(2*latent_dim)(x)\n",
        "x = layers.ReLU()(x)\n",
        "\n",
        "\n",
        "z = layers.Dense(latent_dim, name=\"z\")(x)\n",
        "\n",
        "encoder = keras.Model(encoder_input, z, name='encoder')\n",
        "encoder.summary()"
      ],
      "metadata": {
        "colab": {
          "base_uri": "https://localhost:8080/"
        },
        "id": "urjKrfACJE3F",
        "outputId": "89e9fc40-aaba-4e1f-fa1d-6b82a03aa854"
      },
      "execution_count": 6,
      "outputs": [
        {
          "output_type": "stream",
          "name": "stdout",
          "text": [
            "Model: \"encoder\"\n",
            "_________________________________________________________________\n",
            " Layer (type)                Output Shape              Param #   \n",
            "=================================================================\n",
            " input_1 (InputLayer)        [(None, 32, 32, 3)]       0         \n",
            "                                                                 \n",
            " conv2d (Conv2D)             (None, 30, 30, 64)        1792      \n",
            "                                                                 \n",
            " re_lu (ReLU)                (None, 30, 30, 64)        0         \n",
            "                                                                 \n",
            " conv2d_1 (Conv2D)           (None, 29, 29, 64)        16448     \n",
            "                                                                 \n",
            " re_lu_1 (ReLU)              (None, 29, 29, 64)        0         \n",
            "                                                                 \n",
            " max_pooling2d (MaxPooling2  (None, 14, 14, 64)        0         \n",
            " D)                                                              \n",
            "                                                                 \n",
            " conv2d_2 (Conv2D)           (None, 12, 12, 128)       73856     \n",
            "                                                                 \n",
            " re_lu_2 (ReLU)              (None, 12, 12, 128)       0         \n",
            "                                                                 \n",
            " conv2d_3 (Conv2D)           (None, 11, 11, 128)       65664     \n",
            "                                                                 \n",
            " re_lu_3 (ReLU)              (None, 11, 11, 128)       0         \n",
            "                                                                 \n",
            " conv2d_4 (Conv2D)           (None, 10, 10, 128)       65664     \n",
            "                                                                 \n",
            " re_lu_4 (ReLU)              (None, 10, 10, 128)       0         \n",
            "                                                                 \n",
            " conv2d_5 (Conv2D)           (None, 9, 9, 256)         131328    \n",
            "                                                                 \n",
            " re_lu_5 (ReLU)              (None, 9, 9, 256)         0         \n",
            "                                                                 \n",
            " conv2d_6 (Conv2D)           (None, 8, 8, 256)         262400    \n",
            "                                                                 \n",
            " re_lu_6 (ReLU)              (None, 8, 8, 256)         0         \n",
            "                                                                 \n",
            " conv2d_7 (Conv2D)           (None, 7, 7, 256)         262400    \n",
            "                                                                 \n",
            " re_lu_7 (ReLU)              (None, 7, 7, 256)         0         \n",
            "                                                                 \n",
            " conv2d_8 (Conv2D)           (None, 6, 6, 256)         262400    \n",
            "                                                                 \n",
            " re_lu_8 (ReLU)              (None, 6, 6, 256)         0         \n",
            "                                                                 \n",
            " conv2d_9 (Conv2D)           (None, 5, 5, 512)         524800    \n",
            "                                                                 \n",
            " re_lu_9 (ReLU)              (None, 5, 5, 512)         0         \n",
            "                                                                 \n",
            " conv2d_10 (Conv2D)          (None, 4, 4, 512)         1049088   \n",
            "                                                                 \n",
            " re_lu_10 (ReLU)             (None, 4, 4, 512)         0         \n",
            "                                                                 \n",
            " conv2d_11 (Conv2D)          (None, 3, 3, 512)         1049088   \n",
            "                                                                 \n",
            " re_lu_11 (ReLU)             (None, 3, 3, 512)         0         \n",
            "                                                                 \n",
            " conv2d_12 (Conv2D)          (None, 2, 2, 512)         1049088   \n",
            "                                                                 \n",
            " re_lu_12 (ReLU)             (None, 2, 2, 512)         0         \n",
            "                                                                 \n",
            " conv2d_13 (Conv2D)          (None, 2, 2, 512)         262656    \n",
            "                                                                 \n",
            " re_lu_13 (ReLU)             (None, 2, 2, 512)         0         \n",
            "                                                                 \n",
            " conv2d_14 (Conv2D)          (None, 2, 2, 1024)        525312    \n",
            "                                                                 \n",
            " re_lu_14 (ReLU)             (None, 2, 2, 1024)        0         \n",
            "                                                                 \n",
            " flatten (Flatten)           (None, 4096)              0         \n",
            "                                                                 \n",
            " dense (Dense)               (None, 800)               3277600   \n",
            "                                                                 \n",
            " re_lu_15 (ReLU)             (None, 800)               0         \n",
            "                                                                 \n",
            " dense_1 (Dense)             (None, 400)               320400    \n",
            "                                                                 \n",
            " re_lu_16 (ReLU)             (None, 400)               0         \n",
            "                                                                 \n",
            " z (Dense)                   (None, 200)               80200     \n",
            "                                                                 \n",
            "=================================================================\n",
            "Total params: 9280184 (35.40 MB)\n",
            "Trainable params: 9280184 (35.40 MB)\n",
            "Non-trainable params: 0 (0.00 Byte)\n",
            "_________________________________________________________________\n"
          ]
        }
      ]
    },
    {
      "cell_type": "code",
      "source": [
        "latent_input = keras.Input(shape=(latent_dim,))\n",
        "\n",
        "x = layers.Dense(2*latent_dim)(latent_input)\n",
        "x = layers.ReLU()(x)\n",
        "\n",
        "x = layers.Dense(3*latent_dim)(x)\n",
        "x = layers.ReLU()(x)\n",
        "\n",
        "x = layers.Dense(4*latent_dim)(x)\n",
        "x = layers.ReLU()(x)\n",
        "\n",
        "x = layers.Dense(2*2*1024)(x)\n",
        "x = layers.ReLU()(x)\n",
        "\n",
        "x = layers.Reshape((2,2,1024))(x)\n",
        "\n",
        "x = layers.Conv2DTranspose(1024, 1, padding='valid', kernel_initializer=initializer)(x)\n",
        "x = layers.ReLU()(x)\n",
        "\n",
        "x = layers.Conv2DTranspose(512, 2, padding='valid', kernel_initializer=initializer)(x)\n",
        "x = layers.ReLU()(x)\n",
        "\n",
        "x = layers.Conv2DTranspose(512, 2, padding='valid', kernel_initializer=initializer)(x)\n",
        "#x = layers.BatchNormalization(axis=-1)(x)\n",
        "x = layers.ReLU()(x)\n",
        "\n",
        "x = layers.Conv2DTranspose(512, 2, padding='valid', kernel_initializer=initializer)(x)\n",
        "#x = layers.BatchNormalization(axis=-1)(x)\n",
        "x = layers.ReLU()(x)\n",
        "\n",
        "#x = layers.Conv2DTranspose(256, 2, padding='valid', kernel_initializer=initializer)(x)\n",
        "#x = layers.ReLU()(x)\n",
        "\n",
        "x = layers.Conv2DTranspose(256, 2, padding='valid', kernel_initializer=initializer)(x)\n",
        "#x = layers.BatchNormalization(axis=-1)(x)\n",
        "x = layers.ReLU()(x)\n",
        "\n",
        "x = layers.Conv2DTranspose(256, 2, padding='valid', kernel_initializer=initializer)(x)\n",
        "x = layers.ReLU()(x)\n",
        "\n",
        "x = layers.Conv2DTranspose(256, 3, padding='valid', kernel_initializer=initializer)(x)\n",
        "x = layers.ReLU()(x)\n",
        "\n",
        "x = layers.Conv2DTranspose(128, 2, padding='valid', kernel_initializer=initializer)(x)\n",
        "x = layers.ReLU()(x)\n",
        "\n",
        "x = layers.Conv2DTranspose(128, 2, padding='valid', kernel_initializer=initializer)(x)\n",
        "x = layers.ReLU()(x)\n",
        "\n",
        "x = layers.Conv2DTranspose(128, 2, padding='valid', kernel_initializer=initializer)(x)\n",
        "x = layers.ReLU()(x)\n",
        "\n",
        "x = layers.Conv2DTranspose(128, 2, padding='valid', kernel_initializer=initializer)(x)\n",
        "x = layers.ReLU()(x)\n",
        "\n",
        "x = layers.Conv2DTranspose(64, 2, padding='valid', kernel_initializer=initializer)(x)\n",
        "x = layers.ReLU()(x)\n",
        "\n",
        "x = layers.Conv2DTranspose(64, 2, padding='valid', kernel_initializer=initializer)(x)\n",
        "x = layers.ReLU()(x)\n",
        "\n",
        "x = layers.UpSampling2D(size=(2, 2), data_format=None, interpolation='bilinear')(x)\n",
        "\n",
        "x = layers.Conv2DTranspose(8, 2, padding='valid', kernel_initializer=initializer)(x)\n",
        "x = layers.ReLU()(x)\n",
        "\n",
        "decoder_output = layers.Conv2DTranspose(3, 2, activation='sigmoid', padding='valid', kernel_initializer=initializer)(x)\n",
        "\n",
        "decoder = keras.Model(latent_input, decoder_output, name=\"decoder\")\n",
        "decoder.summary()"
      ],
      "metadata": {
        "colab": {
          "base_uri": "https://localhost:8080/"
        },
        "id": "IrneZQwWJU_w",
        "outputId": "ac68b75b-ed9b-4b33-a307-5557ff515a67"
      },
      "execution_count": 7,
      "outputs": [
        {
          "output_type": "stream",
          "name": "stdout",
          "text": [
            "Model: \"decoder\"\n",
            "_________________________________________________________________\n",
            " Layer (type)                Output Shape              Param #   \n",
            "=================================================================\n",
            " input_2 (InputLayer)        [(None, 200)]             0         \n",
            "                                                                 \n",
            " dense_2 (Dense)             (None, 400)               80400     \n",
            "                                                                 \n",
            " re_lu_17 (ReLU)             (None, 400)               0         \n",
            "                                                                 \n",
            " dense_3 (Dense)             (None, 600)               240600    \n",
            "                                                                 \n",
            " re_lu_18 (ReLU)             (None, 600)               0         \n",
            "                                                                 \n",
            " dense_4 (Dense)             (None, 800)               480800    \n",
            "                                                                 \n",
            " re_lu_19 (ReLU)             (None, 800)               0         \n",
            "                                                                 \n",
            " dense_5 (Dense)             (None, 4096)              3280896   \n",
            "                                                                 \n",
            " re_lu_20 (ReLU)             (None, 4096)              0         \n",
            "                                                                 \n",
            " reshape (Reshape)           (None, 2, 2, 1024)        0         \n",
            "                                                                 \n",
            " conv2d_transpose (Conv2DTr  (None, 2, 2, 1024)        1049600   \n",
            " anspose)                                                        \n",
            "                                                                 \n",
            " re_lu_21 (ReLU)             (None, 2, 2, 1024)        0         \n",
            "                                                                 \n",
            " conv2d_transpose_1 (Conv2D  (None, 3, 3, 512)         2097664   \n",
            " Transpose)                                                      \n",
            "                                                                 \n",
            " re_lu_22 (ReLU)             (None, 3, 3, 512)         0         \n",
            "                                                                 \n",
            " conv2d_transpose_2 (Conv2D  (None, 4, 4, 512)         1049088   \n",
            " Transpose)                                                      \n",
            "                                                                 \n",
            " re_lu_23 (ReLU)             (None, 4, 4, 512)         0         \n",
            "                                                                 \n",
            " conv2d_transpose_3 (Conv2D  (None, 5, 5, 512)         1049088   \n",
            " Transpose)                                                      \n",
            "                                                                 \n",
            " re_lu_24 (ReLU)             (None, 5, 5, 512)         0         \n",
            "                                                                 \n",
            " conv2d_transpose_4 (Conv2D  (None, 6, 6, 256)         524544    \n",
            " Transpose)                                                      \n",
            "                                                                 \n",
            " re_lu_25 (ReLU)             (None, 6, 6, 256)         0         \n",
            "                                                                 \n",
            " conv2d_transpose_5 (Conv2D  (None, 7, 7, 256)         262400    \n",
            " Transpose)                                                      \n",
            "                                                                 \n",
            " re_lu_26 (ReLU)             (None, 7, 7, 256)         0         \n",
            "                                                                 \n",
            " conv2d_transpose_6 (Conv2D  (None, 9, 9, 256)         590080    \n",
            " Transpose)                                                      \n",
            "                                                                 \n",
            " re_lu_27 (ReLU)             (None, 9, 9, 256)         0         \n",
            "                                                                 \n",
            " conv2d_transpose_7 (Conv2D  (None, 10, 10, 128)       131200    \n",
            " Transpose)                                                      \n",
            "                                                                 \n",
            " re_lu_28 (ReLU)             (None, 10, 10, 128)       0         \n",
            "                                                                 \n",
            " conv2d_transpose_8 (Conv2D  (None, 11, 11, 128)       65664     \n",
            " Transpose)                                                      \n",
            "                                                                 \n",
            " re_lu_29 (ReLU)             (None, 11, 11, 128)       0         \n",
            "                                                                 \n",
            " conv2d_transpose_9 (Conv2D  (None, 12, 12, 128)       65664     \n",
            " Transpose)                                                      \n",
            "                                                                 \n",
            " re_lu_30 (ReLU)             (None, 12, 12, 128)       0         \n",
            "                                                                 \n",
            " conv2d_transpose_10 (Conv2  (None, 13, 13, 128)       65664     \n",
            " DTranspose)                                                     \n",
            "                                                                 \n",
            " re_lu_31 (ReLU)             (None, 13, 13, 128)       0         \n",
            "                                                                 \n",
            " conv2d_transpose_11 (Conv2  (None, 14, 14, 64)        32832     \n",
            " DTranspose)                                                     \n",
            "                                                                 \n",
            " re_lu_32 (ReLU)             (None, 14, 14, 64)        0         \n",
            "                                                                 \n",
            " conv2d_transpose_12 (Conv2  (None, 15, 15, 64)        16448     \n",
            " DTranspose)                                                     \n",
            "                                                                 \n",
            " re_lu_33 (ReLU)             (None, 15, 15, 64)        0         \n",
            "                                                                 \n",
            " up_sampling2d (UpSampling2  (None, 30, 30, 64)        0         \n",
            " D)                                                              \n",
            "                                                                 \n",
            " conv2d_transpose_13 (Conv2  (None, 31, 31, 8)         2056      \n",
            " DTranspose)                                                     \n",
            "                                                                 \n",
            " re_lu_34 (ReLU)             (None, 31, 31, 8)         0         \n",
            "                                                                 \n",
            " conv2d_transpose_14 (Conv2  (None, 32, 32, 3)         99        \n",
            " DTranspose)                                                     \n",
            "                                                                 \n",
            "=================================================================\n",
            "Total params: 11084787 (42.29 MB)\n",
            "Trainable params: 11084787 (42.29 MB)\n",
            "Non-trainable params: 0 (0.00 Byte)\n",
            "_________________________________________________________________\n"
          ]
        }
      ]
    },
    {
      "cell_type": "code",
      "source": [
        "decoder_out = decoder(encoder(encoder_input))\n",
        "AE = keras.Model(encoder_input, decoder_out, name='AE')\n",
        "\n",
        "AE.summary()"
      ],
      "metadata": {
        "colab": {
          "base_uri": "https://localhost:8080/"
        },
        "id": "EgqHGEpRKS6k",
        "outputId": "d9adabb7-6138-4e55-b65a-64c48f83d656"
      },
      "execution_count": 8,
      "outputs": [
        {
          "output_type": "stream",
          "name": "stdout",
          "text": [
            "Model: \"AE\"\n",
            "_________________________________________________________________\n",
            " Layer (type)                Output Shape              Param #   \n",
            "=================================================================\n",
            " input_1 (InputLayer)        [(None, 32, 32, 3)]       0         \n",
            "                                                                 \n",
            " encoder (Functional)        (None, 200)               9280184   \n",
            "                                                                 \n",
            " decoder (Functional)        (None, 32, 32, 3)         11084787  \n",
            "                                                                 \n",
            "=================================================================\n",
            "Total params: 20364971 (77.69 MB)\n",
            "Trainable params: 20364971 (77.69 MB)\n",
            "Non-trainable params: 0 (0.00 Byte)\n",
            "_________________________________________________________________\n"
          ]
        }
      ]
    },
    {
      "cell_type": "code",
      "source": [
        "K.clear_session()"
      ],
      "metadata": {
        "id": "klgC_R_OLBgW"
      },
      "execution_count": 16,
      "outputs": []
    },
    {
      "cell_type": "code",
      "source": [
        "#lr_schedule = keras.optimizers.schedules.ExponentialDecay(initial_learning_rate=0.001, decay_steps=200, decay_rate=0.995)\n",
        "optim = keras.optimizers.Adam(learning_rate = 0.001)                  # clipnorm=2.0\n",
        "AE.compile(optimizer=optim,loss='mse')\n",
        "history = AE.fit(img_train, img_train, batch_size=batch_size, validation_data=(img_valid, img_valid), epochs=20, steps_per_epoch=None)"
      ],
      "metadata": {
        "colab": {
          "base_uri": "https://localhost:8080/"
        },
        "id": "2BtOvb7ZLrdH",
        "outputId": "71b92d0a-3af3-4bb6-caaf-b02b42696d5a"
      },
      "execution_count": 9,
      "outputs": [
        {
          "output_type": "stream",
          "name": "stdout",
          "text": [
            "Epoch 1/20\n",
            "391/391 [==============================] - 63s 105ms/step - loss: 0.0621 - val_loss: 0.0619\n",
            "Epoch 2/20\n",
            "391/391 [==============================] - 35s 88ms/step - loss: 0.0621 - val_loss: 0.0618\n",
            "Epoch 3/20\n",
            "391/391 [==============================] - 35s 90ms/step - loss: 0.0603 - val_loss: 0.0500\n",
            "Epoch 4/20\n",
            "391/391 [==============================] - 35s 89ms/step - loss: 0.0415 - val_loss: 0.0376\n",
            "Epoch 5/20\n",
            "391/391 [==============================] - 35s 89ms/step - loss: 0.0371 - val_loss: 0.0341\n",
            "Epoch 6/20\n",
            "391/391 [==============================] - 35s 89ms/step - loss: 0.0336 - val_loss: 0.0332\n",
            "Epoch 7/20\n",
            "391/391 [==============================] - 35s 90ms/step - loss: 0.0333 - val_loss: 0.0323\n",
            "Epoch 8/20\n",
            "391/391 [==============================] - 35s 91ms/step - loss: 0.0311 - val_loss: 0.0307\n",
            "Epoch 9/20\n",
            "391/391 [==============================] - 35s 89ms/step - loss: 0.0306 - val_loss: 0.0305\n",
            "Epoch 10/20\n",
            "391/391 [==============================] - 35s 90ms/step - loss: 0.0305 - val_loss: 0.0306\n",
            "Epoch 11/20\n",
            "391/391 [==============================] - 35s 91ms/step - loss: 0.0304 - val_loss: 0.0303\n",
            "Epoch 12/20\n",
            "391/391 [==============================] - 35s 89ms/step - loss: 0.0293 - val_loss: 0.0291\n",
            "Epoch 13/20\n",
            "391/391 [==============================] - 35s 90ms/step - loss: 0.0287 - val_loss: 0.0285\n",
            "Epoch 14/20\n",
            "391/391 [==============================] - 35s 89ms/step - loss: 0.0281 - val_loss: 0.0274\n",
            "Epoch 15/20\n",
            "391/391 [==============================] - 35s 91ms/step - loss: 0.0272 - val_loss: 0.0271\n",
            "Epoch 16/20\n",
            "391/391 [==============================] - 35s 90ms/step - loss: 0.0269 - val_loss: 0.0272\n",
            "Epoch 17/20\n",
            "391/391 [==============================] - 35s 90ms/step - loss: 0.0268 - val_loss: 0.0267\n",
            "Epoch 18/20\n",
            "391/391 [==============================] - 35s 90ms/step - loss: 0.0267 - val_loss: 0.0268\n",
            "Epoch 19/20\n",
            "391/391 [==============================] - 35s 91ms/step - loss: 0.0265 - val_loss: 0.0266\n",
            "Epoch 20/20\n",
            "391/391 [==============================] - 36s 91ms/step - loss: 0.0264 - val_loss: 0.0264\n"
          ]
        }
      ]
    },
    {
      "cell_type": "code",
      "source": [
        "optim = keras.optimizers.Adam(learning_rate = 0.0005)                  # clipnorm=2.0\n",
        "AE.compile(optimizer=optim,loss='mse')\n",
        "history2 = AE.fit(img_train, img_train, batch_size=batch_size, validation_data=(img_valid, img_valid), epochs=15, steps_per_epoch=None)"
      ],
      "metadata": {
        "colab": {
          "base_uri": "https://localhost:8080/"
        },
        "id": "BbdM7kHgMnEz",
        "outputId": "98dc3f2e-3d78-4b03-d373-bf46fac3249e"
      },
      "execution_count": 10,
      "outputs": [
        {
          "output_type": "stream",
          "name": "stdout",
          "text": [
            "Epoch 1/15\n",
            "391/391 [==============================] - 47s 92ms/step - loss: 0.0255 - val_loss: 0.0252\n",
            "Epoch 2/15\n",
            "391/391 [==============================] - 35s 89ms/step - loss: 0.0250 - val_loss: 0.0251\n",
            "Epoch 3/15\n",
            "391/391 [==============================] - 35s 90ms/step - loss: 0.0248 - val_loss: 0.0249\n",
            "Epoch 4/15\n",
            "391/391 [==============================] - 35s 90ms/step - loss: 0.0247 - val_loss: 0.0247\n",
            "Epoch 5/15\n",
            "391/391 [==============================] - 35s 89ms/step - loss: 0.0245 - val_loss: 0.0246\n",
            "Epoch 6/15\n",
            "391/391 [==============================] - 35s 89ms/step - loss: 0.0243 - val_loss: 0.0244\n",
            "Epoch 7/15\n",
            "391/391 [==============================] - 35s 89ms/step - loss: 0.0242 - val_loss: 0.0244\n",
            "Epoch 8/15\n",
            "391/391 [==============================] - 35s 90ms/step - loss: 0.0240 - val_loss: 0.0241\n",
            "Epoch 9/15\n",
            "391/391 [==============================] - 35s 90ms/step - loss: 0.0235 - val_loss: 0.0235\n",
            "Epoch 10/15\n",
            "391/391 [==============================] - 35s 90ms/step - loss: 0.0231 - val_loss: 0.0233\n",
            "Epoch 11/15\n",
            "391/391 [==============================] - 35s 90ms/step - loss: 0.0230 - val_loss: 0.0232\n",
            "Epoch 12/15\n",
            "391/391 [==============================] - 35s 90ms/step - loss: 0.0228 - val_loss: 0.0230\n",
            "Epoch 13/15\n",
            "391/391 [==============================] - 36s 91ms/step - loss: 0.0227 - val_loss: 0.0230\n",
            "Epoch 14/15\n",
            "391/391 [==============================] - 36s 92ms/step - loss: 0.0226 - val_loss: 0.0230\n",
            "Epoch 15/15\n",
            "391/391 [==============================] - 35s 90ms/step - loss: 0.0225 - val_loss: 0.0228\n"
          ]
        }
      ]
    },
    {
      "cell_type": "code",
      "source": [
        "optim = keras.optimizers.Adam(learning_rate = 0.0001)                  # clipnorm=2.0\n",
        "AE.compile(optimizer=optim,loss='mse')\n",
        "history3 = AE.fit(img_train, img_train, batch_size=batch_size, validation_data=(img_valid, img_valid), epochs=10, steps_per_epoch=None)"
      ],
      "metadata": {
        "colab": {
          "base_uri": "https://localhost:8080/"
        },
        "id": "dZ-rwoXKV6JH",
        "outputId": "c00a915b-114e-4e95-834a-9cca1e307c86"
      },
      "execution_count": 11,
      "outputs": [
        {
          "output_type": "stream",
          "name": "stdout",
          "text": [
            "Epoch 1/10\n",
            "391/391 [==============================] - 48s 92ms/step - loss: 0.0221 - val_loss: 0.0225\n",
            "Epoch 2/10\n",
            "391/391 [==============================] - 35s 90ms/step - loss: 0.0220 - val_loss: 0.0225\n",
            "Epoch 3/10\n",
            "391/391 [==============================] - 35s 89ms/step - loss: 0.0219 - val_loss: 0.0226\n",
            "Epoch 4/10\n",
            "391/391 [==============================] - 36s 91ms/step - loss: 0.0219 - val_loss: 0.0225\n",
            "Epoch 5/10\n",
            "391/391 [==============================] - 35s 91ms/step - loss: 0.0218 - val_loss: 0.0225\n",
            "Epoch 6/10\n",
            "391/391 [==============================] - 35s 90ms/step - loss: 0.0218 - val_loss: 0.0225\n",
            "Epoch 7/10\n",
            "391/391 [==============================] - 35s 90ms/step - loss: 0.0217 - val_loss: 0.0225\n",
            "Epoch 8/10\n",
            "391/391 [==============================] - 35s 91ms/step - loss: 0.0217 - val_loss: 0.0225\n",
            "Epoch 9/10\n",
            "391/391 [==============================] - 36s 92ms/step - loss: 0.0217 - val_loss: 0.0225\n",
            "Epoch 10/10\n",
            "391/391 [==============================] - 36s 92ms/step - loss: 0.0216 - val_loss: 0.0225\n"
          ]
        }
      ]
    },
    {
      "cell_type": "code",
      "source": [
        "optim = keras.optimizers.Adam(learning_rate = 0.00005)                  # clipnorm=2.0\n",
        "AE.compile(optimizer=optim,loss='mse')\n",
        "history4 = AE.fit(img_train, img_train, batch_size=batch_size, validation_data=(img_valid, img_valid), epochs=10, steps_per_epoch=None)"
      ],
      "metadata": {
        "colab": {
          "base_uri": "https://localhost:8080/"
        },
        "id": "R3ct4kklYJAJ",
        "outputId": "e6732e9f-6616-48b5-aeb8-20a08117fdf1"
      },
      "execution_count": null,
      "outputs": [
        {
          "output_type": "stream",
          "name": "stdout",
          "text": [
            "Epoch 1/10\n",
            "391/391 [==============================] - 46s 90ms/step - loss: 0.0215 - val_loss: 0.0225\n",
            "Epoch 2/10\n",
            "391/391 [==============================] - 34s 87ms/step - loss: 0.0215 - val_loss: 0.0225\n",
            "Epoch 3/10\n",
            "391/391 [==============================] - 34s 88ms/step - loss: 0.0214 - val_loss: 0.0225\n",
            "Epoch 4/10\n",
            "391/391 [==============================] - 35s 89ms/step - loss: 0.0214 - val_loss: 0.0225\n",
            "Epoch 5/10\n",
            "391/391 [==============================] - 36s 91ms/step - loss: 0.0214 - val_loss: 0.0225\n",
            "Epoch 6/10\n",
            "179/391 [============>.................] - ETA: 17s - loss: 0.0214"
          ]
        }
      ]
    },
    {
      "cell_type": "code",
      "source": [],
      "metadata": {
        "id": "O4oKep9sfw4C"
      },
      "execution_count": null,
      "outputs": []
    }
  ]
}